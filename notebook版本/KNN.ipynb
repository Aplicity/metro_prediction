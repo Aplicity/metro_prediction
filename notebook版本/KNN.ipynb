{
 "cells": [
  {
   "cell_type": "code",
   "execution_count": 6,
   "metadata": {},
   "outputs": [
    {
     "name": "stderr",
     "output_type": "stream",
     "text": [
      "/Library/Frameworks/Python.framework/Versions/3.6/lib/python3.6/site-packages/lml/loader.py:64: UserWarning: Deprecated! since version 0.0.3. Please use scan_plugins_regex!\n",
      "  \"Deprecated! since version 0.0.3. Please use scan_plugins_regex!\"\n",
      "pyecharts_snapshot is abscent or cannot be imported\n",
      "Traceback (most recent call last):\n",
      "  File \"/Library/Frameworks/Python.framework/Versions/3.6/lib/python3.6/site-packages/lml/utils.py\", line 42, in do_import\n",
      "    return _do_import(plugin_module_name)\n",
      "  File \"/Library/Frameworks/Python.framework/Versions/3.6/lib/python3.6/site-packages/lml/utils.py\", line 51, in _do_import\n",
      "    plugin_module = __import__(plugin_module_name)\n",
      "ModuleNotFoundError: No module named 'pyecharts_snapshot'\n"
     ]
    }
   ],
   "source": [
    "import matplotlib.pyplot as plt\n",
    "import pandas as pd\n",
    "import os\n",
    "from sklearn.svm import SVR\n",
    "from sklearn.neighbors import KNeighborsRegressor\n",
    "from sklearn.tree import DecisionTreeRegressor\n",
    "import tqdm\n",
    "import warnings\n",
    "from pyecharts import Bar , Timeline\n",
    "warnings.filterwarnings('ignore')"
   ]
  },
  {
   "cell_type": "code",
   "execution_count": 2,
   "metadata": {},
   "outputs": [],
   "source": [
    "df = pd.read_csv(\"count_df.csv\", encoding='gbk')\n",
    "df = df.sort_values(by = ['刷卡站点','月份', '日' , '时', '第x个五分钟'])\n",
    "\n",
    "hours = []\n",
    "minuteOfHours = []\n",
    "for hour in range(24):\n",
    "    for minuteOfHour in range(12):\n",
    "        hours.append(hour)\n",
    "        minuteOfHours.append(minuteOfHour)\n",
    "        \n",
    "test_df = pd.DataFrame({\"时\": hours , \"第x个五分钟\": minuteOfHours })\n",
    "\n",
    "stations = set(df['刷卡站点'])"
   ]
  },
  {
   "cell_type": "code",
   "execution_count": 3,
   "metadata": {},
   "outputs": [
    {
     "name": "stderr",
     "output_type": "stream",
     "text": [
      "100%|██████████| 313/313 [00:05<00:00, 57.83it/s]\n"
     ]
    }
   ],
   "source": [
    "for station in tqdm.tqdm(stations):\n",
    "    mask = df['刷卡站点'] == station\n",
    "    temp_df = df[mask]\n",
    "    X = temp_df[['时', '第x个五分钟']]\n",
    "    y = temp_df['进出站状态']\n",
    "    clf = KNeighborsRegressor()\n",
    "    clf.fit(X,y)\n",
    "    test_df = pd.DataFrame({\"时\": hours , \"第x个五分钟\": minuteOfHours })\n",
    "    y_pred = clf.predict(test_df)\n",
    "    pred_df = test_df\n",
    "    pred_df['客流量'] = y_pred\n",
    "    pred_df.to_csv(\"./knn_outputs/{}.csv\".format(station), index = None , encoding = 'gbk')\n",
    "    \n",
    "\n"
   ]
  },
  {
   "cell_type": "code",
   "execution_count": 4,
   "metadata": {},
   "outputs": [
    {
     "name": "stderr",
     "output_type": "stream",
     "text": [
      "100%|██████████| 313/313 [00:04<00:00, 63.06it/s]\n"
     ]
    }
   ],
   "source": [
    "for station in tqdm.tqdm(stations):\n",
    "    mask = df['刷卡站点'] == station\n",
    "    temp_df = df[mask]\n",
    "    X = temp_df[['时', '第x个五分钟']]\n",
    "    y = temp_df['进出站状态']\n",
    "    clf = DecisionTreeRegressor()\n",
    "    clf.fit(X,y)\n",
    "    test_df = pd.DataFrame({\"时\": hours , \"第x个五分钟\": minuteOfHours })\n",
    "    y_pred = clf.predict(test_df)\n",
    "    pred_df = test_df\n",
    "    pred_df['客流量'] = y_pred\n",
    "    pred_df.to_csv(\"./dt_outputs/{}.csv\".format(station), index = None , encoding = 'gbk')\n",
    "    \n",
    "\n"
   ]
  },
  {
   "cell_type": "code",
   "execution_count": 5,
   "metadata": {},
   "outputs": [],
   "source": [
    "DFs = []\n",
    "for fileName in os.listdir('./dt_outputs/'):\n",
    "    temp_df = pd.read_csv('./dt_outputs/' + fileName , encoding='gbk')\n",
    "    station = fileName.split('.')[0]\n",
    "    temp_df['站点'] = station\n",
    "    DFs.append(temp_df)\n",
    "pred_df = pd.concat(DFs)\n",
    "del DFs\n",
    "\n",
    "timeline = Timeline(is_auto_play=True, timeline_bottom=0,width = 1400 , height = 700)\n",
    "\n",
    "for hour in range(24):\n",
    "    for minuteOfHour in range(12):\n",
    "        mask = (pred_df['时'] == hour)  & (pred_df['第x个五分钟'] == minuteOfHour)\n",
    "        temp_df = temp_df.sort_values('站点')\n",
    "        temp_df = pred_df[mask]\n",
    "        attrs = temp_df['站点']\n",
    "        values = temp_df['客流量']\n",
    "        \n",
    "        bar = Bar(\"24小时上海地铁客流量\", \"以每5分钟为统计单位\" , width = 1400 , height = 600)\n",
    "        bar.add(\"\", attrs, values)\n",
    "        timeline.add(bar, '{}时 ：{}～{}分钟'.format(hour, 5*minuteOfHour, 5*minuteOfHour+5 ))\n",
    "timeline.render('dt_24小时上海地铁客流量.html')       "
   ]
  },
  {
   "cell_type": "code",
   "execution_count": null,
   "metadata": {},
   "outputs": [],
   "source": []
  },
  {
   "cell_type": "code",
   "execution_count": null,
   "metadata": {},
   "outputs": [],
   "source": []
  },
  {
   "cell_type": "code",
   "execution_count": null,
   "metadata": {},
   "outputs": [],
   "source": []
  }
 ],
 "metadata": {
  "kernelspec": {
   "display_name": "Python 3",
   "language": "python",
   "name": "python3"
  },
  "language_info": {
   "codemirror_mode": {
    "name": "ipython",
    "version": 3
   },
   "file_extension": ".py",
   "mimetype": "text/x-python",
   "name": "python",
   "nbconvert_exporter": "python",
   "pygments_lexer": "ipython3",
   "version": "3.6.4"
  },
  "toc": {
   "base_numbering": 1,
   "nav_menu": {},
   "number_sections": true,
   "sideBar": true,
   "skip_h1_title": false,
   "title_cell": "Table of Contents",
   "title_sidebar": "Contents",
   "toc_cell": false,
   "toc_position": {},
   "toc_section_display": true,
   "toc_window_display": false
  },
  "varInspector": {
   "cols": {
    "lenName": 16,
    "lenType": 16,
    "lenVar": 40
   },
   "kernels_config": {
    "python": {
     "delete_cmd_postfix": "",
     "delete_cmd_prefix": "del ",
     "library": "var_list.py",
     "varRefreshCmd": "print(var_dic_list())"
    },
    "r": {
     "delete_cmd_postfix": ") ",
     "delete_cmd_prefix": "rm(",
     "library": "var_list.r",
     "varRefreshCmd": "cat(var_dic_list()) "
    }
   },
   "types_to_exclude": [
    "module",
    "function",
    "builtin_function_or_method",
    "instance",
    "_Feature"
   ],
   "window_display": false
  }
 },
 "nbformat": 4,
 "nbformat_minor": 2
}
