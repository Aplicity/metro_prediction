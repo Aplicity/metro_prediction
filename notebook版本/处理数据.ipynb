{
 "cells": [
  {
   "cell_type": "code",
   "execution_count": 1,
   "metadata": {},
   "outputs": [],
   "source": [
    "import pandas as pd\n",
    "import numpy as np\n",
    "import os\n",
    "import time"
   ]
  },
  {
   "cell_type": "markdown",
   "metadata": {},
   "source": [
    "## load date"
   ]
  },
  {
   "cell_type": "code",
   "execution_count": 2,
   "metadata": {},
   "outputs": [],
   "source": [
    "df_07 = pd.read_csv('SPTCC-20160701.csv', encoding='gbk', header = None)\n",
    "df_08 = pd.read_csv('SPTCC-20160802.csv', encoding='gbk', header = None)\n",
    "df_09 = pd.read_csv('SPTCC-20160901.csv', encoding='gbk', header = None)\n",
    "\n",
    "columns = ['卡ID', '刷卡日期' , '刷卡时间', '刷卡站点', '刷卡乘车类型', '刷卡扣钱', '是否优惠']\n",
    "df_07.columns = columns\n",
    "df_08.columns = columns\n",
    "df_09.columns = columns\n",
    "\n",
    "df = pd.concat([df_07,df_08,df_09])\n",
    "\n",
    "del df_07,df_08,df_09\n",
    "\n",
    "df = df.query(\"刷卡乘车类型 == '地铁'\") # (29816659, 7)"
   ]
  },
  {
   "cell_type": "code",
   "execution_count": null,
   "metadata": {},
   "outputs": [],
   "source": []
  },
  {
   "cell_type": "code",
   "execution_count": 3,
   "metadata": {},
   "outputs": [],
   "source": [
    "stations = set(df['刷卡站点'])"
   ]
  },
  {
   "cell_type": "markdown",
   "metadata": {},
   "source": [
    "## features\n",
    "### 是否进站"
   ]
  },
  {
   "cell_type": "code",
   "execution_count": 4,
   "metadata": {},
   "outputs": [],
   "source": [
    "df['是否进站'] = df['刷卡扣钱'].apply(lambda x : 1 if x > 0 else 0)"
   ]
  },
  {
   "cell_type": "markdown",
   "metadata": {},
   "source": [
    "### datetime"
   ]
  },
  {
   "cell_type": "code",
   "execution_count": 6,
   "metadata": {},
   "outputs": [],
   "source": [
    "df['DateTime'] = df['刷卡日期'] + \" \" + df[\"刷卡时间\"]\n",
    "df['DateTime'] = pd.to_datetime(df['DateTime'])\n",
    "df['月份'] = df[\"DateTime\"].dt.month\n",
    "df['日'] = df[\"DateTime\"].dt.day\n",
    "df['时'] = df[\"DateTime\"].dt.hour\n",
    "df['分'] = df[\"DateTime\"].dt.minute\n",
    "df['星期序数'] = df[\"DateTime\"].dt.dayofweek\n",
    "df['是否周末'] = df['星期序数'].apply(lambda x : 1 if x >=5 else 0)\n",
    "\n",
    "df['第x个五分钟'] = df['分'].apply(lambda x : x // 5)\n",
    "df['进出站状态'] = df['是否进站'].replace(0,-1)\n",
    "\n",
    "df.to_csv('df.csv',index = None )"
   ]
  },
  {
   "cell_type": "markdown",
   "metadata": {},
   "source": [
    "## 重新读取数据"
   ]
  },
  {
   "cell_type": "code",
   "execution_count": 7,
   "metadata": {},
   "outputs": [],
   "source": [
    "df = pd.read_csv('df.csv')\n",
    "\n",
    "df['月份'] = df['月份'].astype(str)\n",
    "df['日'] = df['日'].astype(str)\n",
    "df['时'] = df['时'].astype(str)\n",
    "df['第x个五分钟'] = df['第x个五分钟'].astype(str)\n"
   ]
  },
  {
   "cell_type": "markdown",
   "metadata": {},
   "source": [
    "### 进站 - 出站 = 站内人流"
   ]
  },
  {
   "cell_type": "code",
   "execution_count": 12,
   "metadata": {},
   "outputs": [],
   "source": [
    "data = df.groupby(['刷卡站点','月份', '日', '时', '第x个五分钟' ])['进出站状态'].sum().to_frame()\n",
    "data .to_csv('data.csv', encoding='gbk')\n",
    "data = data.reset_index()\n",
    "data['月份'] = data['月份'].astype(int)\n",
    "data['日'] = data['日'].astype(int)\n",
    "data['时'] = data['时'].astype(int)\n",
    "data['第x个五分钟'] = data['第x个五分钟'].astype(int)\n",
    "\n"
   ]
  },
  {
   "cell_type": "markdown",
   "metadata": {},
   "source": [
    "### 进站 + 出战 = 站内人流"
   ]
  },
  {
   "cell_type": "code",
   "execution_count": 9,
   "metadata": {},
   "outputs": [],
   "source": [
    "count_df = df.groupby(['刷卡站点','月份', '日', '时', '第x个五分钟' ])['进出站状态'].count().to_frame()\n",
    "count_df .to_csv('count_df.csv', encoding='gbk')"
   ]
  },
  {
   "cell_type": "code",
   "execution_count": null,
   "metadata": {},
   "outputs": [],
   "source": []
  },
  {
   "cell_type": "code",
   "execution_count": null,
   "metadata": {},
   "outputs": [],
   "source": []
  },
  {
   "cell_type": "code",
   "execution_count": null,
   "metadata": {},
   "outputs": [],
   "source": []
  },
  {
   "cell_type": "code",
   "execution_count": null,
   "metadata": {},
   "outputs": [],
   "source": []
  }
 ],
 "metadata": {
  "kernelspec": {
   "display_name": "Python 3",
   "language": "python",
   "name": "python3"
  },
  "language_info": {
   "codemirror_mode": {
    "name": "ipython",
    "version": 3
   },
   "file_extension": ".py",
   "mimetype": "text/x-python",
   "name": "python",
   "nbconvert_exporter": "python",
   "pygments_lexer": "ipython3",
   "version": "3.6.4"
  },
  "toc": {
   "base_numbering": 1,
   "nav_menu": {},
   "number_sections": true,
   "sideBar": true,
   "skip_h1_title": false,
   "title_cell": "Table of Contents",
   "title_sidebar": "Contents",
   "toc_cell": false,
   "toc_position": {},
   "toc_section_display": true,
   "toc_window_display": false
  },
  "varInspector": {
   "cols": {
    "lenName": 16,
    "lenType": 16,
    "lenVar": 40
   },
   "kernels_config": {
    "python": {
     "delete_cmd_postfix": "",
     "delete_cmd_prefix": "del ",
     "library": "var_list.py",
     "varRefreshCmd": "print(var_dic_list())"
    },
    "r": {
     "delete_cmd_postfix": ") ",
     "delete_cmd_prefix": "rm(",
     "library": "var_list.r",
     "varRefreshCmd": "cat(var_dic_list()) "
    }
   },
   "types_to_exclude": [
    "module",
    "function",
    "builtin_function_or_method",
    "instance",
    "_Feature"
   ],
   "window_display": false
  }
 },
 "nbformat": 4,
 "nbformat_minor": 2
}
